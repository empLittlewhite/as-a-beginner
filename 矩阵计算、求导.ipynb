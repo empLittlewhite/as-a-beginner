{
  "nbformat": 4,
  "nbformat_minor": 0,
  "metadata": {
    "colab": {
      "provenance": [],
      "authorship_tag": "ABX9TyNucFLLdgAS2MbaErBb2bZD",
      "include_colab_link": true
    },
    "kernelspec": {
      "name": "python3",
      "display_name": "Python 3"
    },
    "language_info": {
      "name": "python"
    }
  },
  "cells": [
    {
      "cell_type": "markdown",
      "metadata": {
        "id": "view-in-github",
        "colab_type": "text"
      },
      "source": [
        "<a href=\"https://colab.research.google.com/github/empLittlewhite/as-a-beginner/blob/main/%E7%9F%A9%E9%98%B5%E8%AE%A1%E7%AE%97%E3%80%81%E6%B1%82%E5%AF%BC.ipynb\" target=\"_parent\"><img src=\"https://colab.research.google.com/assets/colab-badge.svg\" alt=\"Open In Colab\"/></a>"
      ]
    },
    {
      "cell_type": "code",
      "source": [
        "import torch\n",
        "\n",
        "x = torch.arange(4.0)\n",
        "x"
      ],
      "metadata": {
        "id": "7Q3tsd6bR1Hs",
        "colab": {
          "base_uri": "https://localhost:8080/"
        },
        "outputId": "a7e00ffe-9a8e-4f5c-de21-397bad26b646"
      },
      "execution_count": 1,
      "outputs": [
        {
          "output_type": "execute_result",
          "data": {
            "text/plain": [
              "tensor([0., 1., 2., 3.])"
            ]
          },
          "metadata": {},
          "execution_count": 1
        }
      ]
    },
    {
      "cell_type": "code",
      "source": [
        "# 保存梯度,并访问梯度\n",
        "# 等价于 x = torch.arange(4.0,requires_grad=True)\n",
        "x.requires_grad_(True)\n",
        "x.grad"
      ],
      "metadata": {
        "id": "KoGpIn_mZFm6"
      },
      "execution_count": 2,
      "outputs": []
    },
    {
      "cell_type": "code",
      "source": [
        "y = 2 * torch.dot(x,x)#求内积 y=2x^2\n",
        "y"
      ],
      "metadata": {
        "colab": {
          "base_uri": "https://localhost:8080/"
        },
        "id": "D1g3VJ8HZpMu",
        "outputId": "fee8fc92-ede2-4797-bf5a-a7c10b41efe9"
      },
      "execution_count": 3,
      "outputs": [
        {
          "output_type": "execute_result",
          "data": {
            "text/plain": [
              "tensor(28., grad_fn=<MulBackward0>)"
            ]
          },
          "metadata": {},
          "execution_count": 3
        }
      ]
    },
    {
      "cell_type": "code",
      "source": [
        "# 调用反向传播函数自动计算y关于x每一个分量的梯度\n",
        "y.backward()\n",
        "x.grad"
      ],
      "metadata": {
        "colab": {
          "base_uri": "https://localhost:8080/"
        },
        "id": "tmkmehKvZyG_",
        "outputId": "7a2ebe00-9111-4aaf-9d1a-c8582e8137c5"
      },
      "execution_count": 4,
      "outputs": [
        {
          "output_type": "execute_result",
          "data": {
            "text/plain": [
              "tensor([ 0.,  4.,  8., 12.])"
            ]
          },
          "metadata": {},
          "execution_count": 4
        }
      ]
    },
    {
      "cell_type": "code",
      "source": [
        "x.grad == 4*x"
      ],
      "metadata": {
        "colab": {
          "base_uri": "https://localhost:8080/"
        },
        "id": "ekwByABTaE57",
        "outputId": "93961a75-6acb-4f8e-f1f6-e1968323127d"
      },
      "execution_count": 5,
      "outputs": [
        {
          "output_type": "execute_result",
          "data": {
            "text/plain": [
              "tensor([True, True, True, True])"
            ]
          },
          "metadata": {},
          "execution_count": 5
        }
      ]
    },
    {
      "cell_type": "code",
      "source": [
        "# 重写内容_,将x的梯度清零\n",
        "x.grad.zero_()\n",
        "y = x.sum()\n",
        "y.backward()\n",
        "x.grad"
      ],
      "metadata": {
        "colab": {
          "base_uri": "https://localhost:8080/"
        },
        "id": "lDaTnHoQaMgH",
        "outputId": "14063043-cabb-40f4-e187-2dae423195ff"
      },
      "execution_count": 6,
      "outputs": [
        {
          "output_type": "execute_result",
          "data": {
            "text/plain": [
              "tensor([1., 1., 1., 1.])"
            ]
          },
          "metadata": {},
          "execution_count": 6
        }
      ]
    },
    {
      "cell_type": "code",
      "source": [
        "# 大部分只是对标量求导，不会对矩阵进行求导，这里只是范例\n",
        "# 计算的基本是loss，都是标量。\n",
        "x.grad.zero_()\n",
        "y = x * x\n",
        "y.sum().backward()#这里的sum就是标量\n",
        "x.grad"
      ],
      "metadata": {
        "colab": {
          "base_uri": "https://localhost:8080/"
        },
        "id": "9Vr1NgfwaiFy",
        "outputId": "785081ad-149b-4dc6-b098-785dfd594034"
      },
      "execution_count": 7,
      "outputs": [
        {
          "output_type": "execute_result",
          "data": {
            "text/plain": [
              "tensor([0., 2., 4., 6.])"
            ]
          },
          "metadata": {},
          "execution_count": 7
        }
      ]
    },
    {
      "cell_type": "code",
      "source": [
        "# 将一些计算移动到计算图之外，可以进行参数固定的作用\n",
        "x.grad.zero_()\n",
        "y = x * x\n",
        "# 将y视作一个常数 就是x*x\n",
        "u = y.detach()\n",
        "z = u * x\n",
        "\n",
        "z.sum().backward()\n",
        "x.grad == u #求导的结果就是常数"
      ],
      "metadata": {
        "colab": {
          "base_uri": "https://localhost:8080/"
        },
        "id": "Sw-py5c-a_iX",
        "outputId": "d05e29f3-e6c1-41b6-b120-fb72d4ca4ec4"
      },
      "execution_count": 10,
      "outputs": [
        {
          "output_type": "execute_result",
          "data": {
            "text/plain": [
              "tensor([True, True, True, True])"
            ]
          },
          "metadata": {},
          "execution_count": 10
        }
      ]
    },
    {
      "cell_type": "code",
      "source": [
        "# 即使构建函数的计算图需要通过Python控制流，依然可以计算得到变量的梯度\n",
        "def f(a):\n",
        "  b = a * 2\n",
        "  while b.norm() < 1000:\n",
        "    b = b *2\n",
        "    if b.sum() > 0:\n",
        "      c = bi\n",
        "    else:\n",
        "      c = 100 * b\n",
        "    return c\n",
        "a = torch.randn(size=(),requires_grad=True)\n",
        "d = f(a)\n",
        "d.backward()\n",
        "\n",
        "a.grad == d/a"
      ],
      "metadata": {
        "colab": {
          "base_uri": "https://localhost:8080/"
        },
        "id": "H0AkUTOhbfTW",
        "outputId": "0f7e532c-f307-4b54-a204-ed8d9585bdf7"
      },
      "execution_count": 12,
      "outputs": [
        {
          "output_type": "execute_result",
          "data": {
            "text/plain": [
              "tensor(True)"
            ]
          },
          "metadata": {},
          "execution_count": 12
        }
      ]
    },
    {
      "cell_type": "code",
      "source": [],
      "metadata": {
        "id": "wiuEleawnN0j"
      },
      "execution_count": null,
      "outputs": []
    }
  ]
}